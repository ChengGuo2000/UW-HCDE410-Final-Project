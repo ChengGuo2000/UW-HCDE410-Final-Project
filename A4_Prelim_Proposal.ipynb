{
 "cells": [
  {
   "cell_type": "markdown",
   "id": "307291c9-e183-4b31-ab27-859768bf1a17",
   "metadata": {},
   "source": [
    "# A4 - Final Project Preliminary Proposal"
   ]
  },
  {
   "cell_type": "markdown",
   "id": "dd928f07-da15-4091-a21b-c8c0bf0695ee",
   "metadata": {},
   "source": [
    "## Motivation\n",
    "Some of my friends come from a mountain range in China where there are abundant amount of mushrooms. When I visited them, they can easily identify whether a mushroom is edible or not based on its appearances and choose the best way to cook them. I want to learn that skill since all the mushrooms are delicious, but there are so many types of mushrooms and so many details that is hard to remember them all at once, so I decided to build a machine-learning model that can identify a mushroom's edibility based on its appearances. Potentially, I can use this model to build an app that determines the edibility of mushrooms grow in the wild, which could be a useful source for scholars of mushrooms and field travelers. I hope to utilize my data science skills in this project and build a useful model in real life. "
   ]
  },
  {
   "cell_type": "markdown",
   "id": "0942bd50-f9fe-4f61-9095-1736f57267d4",
   "metadata": {},
   "source": [
    "## Data\n",
    "The dataset I used for this project comes from this website: https://archive.ics.uci.edu/ml/datasets/Secondary+Mushroom+Dataset. It is suitable for my project because it listed the information of 61069 mushrooms, for each of them, 17 nominal and 3 metric appearance features and a target (edible or poisonous) are provided, which is perfect for my goal of building a model that can classify a mushroom's edibility based on its appearance. The data is using a Creative Commons license, while the author stated that it is the largest dataset available for determining the edibility of mushrooms. All the information is generated hypothetically from known knowledge of mushrooms for the classification task, so it can be used as a reference for mushrooms while not totally accurate. "
   ]
  },
  {
   "cell_type": "markdown",
   "id": "f76091a2-a303-449b-b82c-359fdf34aa8f",
   "metadata": {},
   "source": [
    "## Unknown\n",
    "\n",
    "1. All the 61069 mushroom data in my source are from the 173 species of mushrooms from 23 families and are generated hypothetically. Theocretically they all could be real mushrooms grow outside, while we still need to keep in mind that all the data here are generated, not collected. \n",
    "2. The mushrooms are divided into edible and poisonous ones, while there are some mushrooms that have unknown edibility, they are combined together with the poisonous ones for classification. \n",
    "3. Among the data, there are missing informations mostly found on the \"spore-print-color\" column."
   ]
  }
 ],
 "metadata": {
  "kernelspec": {
   "display_name": "Python 3 (ipykernel)",
   "language": "python",
   "name": "python3"
  },
  "language_info": {
   "codemirror_mode": {
    "name": "ipython",
    "version": 3
   },
   "file_extension": ".py",
   "mimetype": "text/x-python",
   "name": "python",
   "nbconvert_exporter": "python",
   "pygments_lexer": "ipython3",
   "version": "3.9.7"
  }
 },
 "nbformat": 4,
 "nbformat_minor": 5
}
