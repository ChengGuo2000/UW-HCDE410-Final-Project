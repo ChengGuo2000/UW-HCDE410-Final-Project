{
 "cells": [
  {
   "cell_type": "markdown",
   "id": "307291c9-e183-4b31-ab27-859768bf1a17",
   "metadata": {},
   "source": [
    "# A4 - Final Project Preliminary Proposal"
   ]
  },
  {
   "cell_type": "code",
   "execution_count": null,
   "id": "cabae775-d9e9-4f1f-a545-782d650fbc47",
   "metadata": {},
   "outputs": [],
   "source": []
  }
 ],
 "metadata": {
  "kernelspec": {
   "display_name": "Python 3 (ipykernel)",
   "language": "python",
   "name": "python3"
  },
  "language_info": {
   "codemirror_mode": {
    "name": "ipython",
    "version": 3
   },
   "file_extension": ".py",
   "mimetype": "text/x-python",
   "name": "python",
   "nbconvert_exporter": "python",
   "pygments_lexer": "ipython3",
   "version": "3.9.7"
  }
 },
 "nbformat": 4,
 "nbformat_minor": 5
}
